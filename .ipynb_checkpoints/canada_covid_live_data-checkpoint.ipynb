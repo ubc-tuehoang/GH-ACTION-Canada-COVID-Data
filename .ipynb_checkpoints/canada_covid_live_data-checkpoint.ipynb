{
 "cells": [
  {
   "cell_type": "code",
   "execution_count": 5,
   "metadata": {
    "executionInfo": {
     "elapsed": 1111,
     "status": "ok",
     "timestamp": 1668194387196,
     "user": {
      "displayName": "DangTue Hoang",
      "userId": "07080757545571101487"
     },
     "user_tz": 480
    },
    "id": "8vh3RS19-dY9"
   },
   "outputs": [],
   "source": [
    "import pandas as pd\n",
    "\n",
    "url = 'https://health-infobase.canada.ca/src/data/covidLive/covid19-download.csv'\n",
    "df = pd.read_csv(url, index_col=0)\n"
   ]
  },
  {
   "cell_type": "code",
   "execution_count": 6,
   "metadata": {
    "executionInfo": {
     "elapsed": 12,
     "status": "ok",
     "timestamp": 1668194387199,
     "user": {
      "displayName": "DangTue Hoang",
      "userId": "07080757545571101487"
     },
     "user_tz": 480
    },
    "id": "rXeNflai-tWt"
   },
   "outputs": [],
   "source": [
    "import random"
   ]
  },
  {
   "cell_type": "code",
   "execution_count": 7,
   "metadata": {
    "colab": {
     "base_uri": "https://localhost:8080/",
     "height": 35
    },
    "executionInfo": {
     "elapsed": 11,
     "status": "ok",
     "timestamp": 1668194387199,
     "user": {
      "displayName": "DangTue Hoang",
      "userId": "07080757545571101487"
     },
     "user_tz": 480
    },
    "id": "vVGdFiejlSZD",
    "outputId": "4e280edb-9b10-48f4-d05d-9a0c0b1558db"
   },
   "outputs": [
    {
     "data": {
      "text/plain": [
       "'1995_df.csv'"
      ]
     },
     "execution_count": 7,
     "metadata": {},
     "output_type": "execute_result"
    }
   ],
   "source": []
  },
  {
   "cell_type": "code",
   "execution_count": 8,
   "metadata": {
    "executionInfo": {
     "elapsed": 9,
     "status": "ok",
     "timestamp": 1668194387200,
     "user": {
      "displayName": "DangTue Hoang",
      "userId": "07080757545571101487"
     },
     "user_tz": 480
    },
    "id": "m97VmY7q-vyy"
   },
   "outputs": [],
   "source": [
    "file_name = \"canada_covid_data_\" + str(int(random.random()*10000)) + \"_.csv\""
   ]
  },
  {
   "cell_type": "code",
   "execution_count": 9,
   "metadata": {
    "executionInfo": {
     "elapsed": 10,
     "status": "ok",
     "timestamp": 1668194387201,
     "user": {
      "displayName": "DangTue Hoang",
      "userId": "07080757545571101487"
     },
     "user_tz": 480
    },
    "id": "R1PNeX6l-p5n"
   },
   "outputs": [],
   "source": [
    "df.to_csv(file_name,index = False)"
   ]
  }
 ],
 "metadata": {
  "colab": {
   "collapsed_sections": [],
   "provenance": [],
   "toc_visible": true
  },
  "kernelspec": {
   "display_name": "Python 3 (ipykernel)",
   "language": "python",
   "name": "python3"
  },
  "language_info": {
   "codemirror_mode": {
    "name": "ipython",
    "version": 3
   },
   "file_extension": ".py",
   "mimetype": "text/x-python",
   "name": "python",
   "nbconvert_exporter": "python",
   "pygments_lexer": "ipython3",
   "version": "3.10.4"
  }
 },
 "nbformat": 4,
 "nbformat_minor": 4
}
